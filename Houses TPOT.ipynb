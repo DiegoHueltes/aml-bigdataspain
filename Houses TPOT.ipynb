{
 "cells": [
  {
   "cell_type": "code",
   "execution_count": 1,
   "metadata": {
    "collapsed": true
   },
   "outputs": [],
   "source": [
    "import pandas as pd\n",
    "import numpy as np\n",
    "from sklearn.model_selection import train_test_split\n",
    "from sklearn.metrics import mean_squared_error\n",
    "from tpot import TPOTRegressor"
   ]
  },
  {
   "cell_type": "code",
   "execution_count": 64,
   "metadata": {
    "collapsed": true
   },
   "outputs": [],
   "source": [
    "def rmserror_log(y_true, y_pred):\n",
    "    return np.sqrt(mean_squared_error(y_true, y_pred))"
   ]
  },
  {
   "cell_type": "code",
   "execution_count": 2,
   "metadata": {
    "collapsed": true
   },
   "outputs": [],
   "source": [
    "train = pd.read_csv('houses/clean_train.csv')\n",
    "test = pd.read_csv('houses/clean_test.csv')\n",
    "test_ID = test['Id']\n",
    "\n",
    "del train['Id']\n",
    "del test['Id']\n",
    "train[\"SalePrice\"] = np.log1p(train[\"SalePrice\"])"
   ]
  },
  {
   "cell_type": "code",
   "execution_count": null,
   "metadata": {},
   "outputs": [
    {
     "name": "stderr",
     "output_type": "stream",
     "text": [
      "Optimization Progress:  34%|███▎      | 101/300 [10:55<10:39,  3.21s/pipeline] "
     ]
    },
    {
     "name": "stdout",
     "output_type": "stream",
     "text": [
      "Generation 1 - Current best internal CV score: 0.38439377171626965\n"
     ]
    },
    {
     "name": "stderr",
     "output_type": "stream",
     "text": [
      "Optimization Progress:  51%|█████     | 153/300 [24:25<02:07,  1.16pipeline/s]  "
     ]
    },
    {
     "name": "stdout",
     "output_type": "stream",
     "text": [
      "Generation 2 - Current best internal CV score: 0.38439377171626965\n"
     ]
    },
    {
     "name": "stderr",
     "output_type": "stream",
     "text": [
      "Optimization Progress:  68%|██████▊   | 203/300 [27:37<04:17,  2.66s/pipeline]"
     ]
    },
    {
     "name": "stdout",
     "output_type": "stream",
     "text": [
      "Generation 3 - Current best internal CV score: 0.38439377171626965\n"
     ]
    },
    {
     "name": "stderr",
     "output_type": "stream",
     "text": [
      "Optimization Progress:  71%|███████   | 213/300 [28:10<05:42,  3.94s/pipeline]"
     ]
    }
   ],
   "source": [
    "tpot = TPOTRegressor(generations=100, population_size=100, verbosity=2, \n",
    "                     n_jobs=1, scoring=rmserror_log)\n",
    "tpot.fit(train.drop('SalePrice', axis=1).values, train['SalePrice'])"
   ]
  },
  {
   "cell_type": "code",
   "execution_count": 7,
   "metadata": {},
   "outputs": [
    {
     "data": {
      "text/plain": [
       "Pipeline(memory=None,\n",
       "     steps=[('stackingestimator-1', StackingEstimator(estimator=ExtraTreesRegressor(bootstrap=True, criterion='mse', max_depth=None,\n",
       "          max_features=1.0, max_leaf_nodes=None, min_impurity_decrease=0.0,\n",
       "          min_impurity_split=None, min_samples_leaf=6,\n",
       "          min_samples_split=12, min_weigh...timators=100, n_jobs=1,\n",
       "          oob_score=False, random_state=None, verbose=0, warm_start=False))])"
      ]
     },
     "execution_count": 7,
     "metadata": {},
     "output_type": "execute_result"
    }
   ],
   "source": [
    "import numpy as np\n",
    "import pandas as pd\n",
    "from sklearn.ensemble import ExtraTreesRegressor, GradientBoostingRegressor\n",
    "from sklearn.feature_selection import SelectFromModel\n",
    "from sklearn.model_selection import train_test_split\n",
    "from sklearn.pipeline import make_pipeline, make_union\n",
    "from sklearn.preprocessing import Normalizer\n",
    "from sklearn.svm import LinearSVR\n",
    "from tpot.builtins import StackingEstimator\n",
    "\n",
    "exported_pipeline = make_pipeline(\n",
    "    StackingEstimator(estimator=ExtraTreesRegressor(bootstrap=True, max_features=1.0, min_samples_leaf=6, min_samples_split=12, n_estimators=100)),\n",
    "    Normalizer(norm=\"l1\"),\n",
    "    StackingEstimator(estimator=GradientBoostingRegressor(alpha=0.8, learning_rate=0.01, loss=\"quantile\", max_depth=10, max_features=0.3, min_samples_leaf=5, min_samples_split=18, n_estimators=100, subsample=0.05)),\n",
    "    StackingEstimator(estimator=ExtraTreesRegressor(bootstrap=True, max_features=0.2, min_samples_leaf=6, min_samples_split=8, n_estimators=100)),\n",
    "    SelectFromModel(estimator=ExtraTreesRegressor(max_features=0.55, n_estimators=100), threshold=0.4),\n",
    "    StackingEstimator(estimator=LinearSVR(C=25.0, dual=True, epsilon=0.0001, loss=\"epsilon_insensitive\", tol=0.1)),\n",
    "    Normalizer(norm=\"max\"),\n",
    "    ExtraTreesRegressor(bootstrap=False, max_features=0.15000000000000002, min_samples_leaf=10, min_samples_split=18, n_estimators=100)\n",
    ")\n",
    "exported_pipeline.fit(train.drop('SalePrice', axis=1).values, train['SalePrice'])"
   ]
  },
  {
   "cell_type": "code",
   "execution_count": 9,
   "metadata": {},
   "outputs": [
    {
     "data": {
      "text/plain": [
       "Pipeline(memory=None,\n",
       "     steps=[('stackingestimator-1', StackingEstimator(estimator=GradientBoostingRegressor(alpha=0.75, criterion='friedman_mse', init=None,\n",
       "             learning_rate=0.01, loss='ls', max_depth=3,\n",
       "             max_features=0.6500000000000001, max_leaf_nodes=None,\n",
       "             min_impurity_decrease=0.0, mi...timators=100, n_jobs=1,\n",
       "          oob_score=False, random_state=None, verbose=0, warm_start=False))])"
      ]
     },
     "execution_count": 9,
     "metadata": {},
     "output_type": "execute_result"
    }
   ],
   "source": [
    "import numpy as np\n",
    "import pandas as pd\n",
    "from sklearn.decomposition import PCA\n",
    "from sklearn.ensemble import ExtraTreesRegressor, GradientBoostingRegressor\n",
    "from sklearn.feature_selection import SelectFromModel\n",
    "from sklearn.model_selection import train_test_split\n",
    "from sklearn.pipeline import make_pipeline, make_union\n",
    "from sklearn.preprocessing import StandardScaler\n",
    "from tpot.builtins import StackingEstimator\n",
    "\n",
    "\n",
    "# Score on the training set was:-0.3618396735340909\n",
    "exported_pipeline = make_pipeline(\n",
    "    StackingEstimator(estimator=GradientBoostingRegressor(alpha=0.75, learning_rate=0.01, loss=\"ls\", max_depth=3, max_features=0.6500000000000001, min_samples_leaf=3, min_samples_split=7, n_estimators=100, subsample=0.8)),\n",
    "    StackingEstimator(estimator=ExtraTreesRegressor(bootstrap=True, max_features=0.7500000000000001, min_samples_leaf=14, min_samples_split=3, n_estimators=100)),\n",
    "    StandardScaler(),\n",
    "    SelectFromModel(estimator=ExtraTreesRegressor(max_features=0.9000000000000001, n_estimators=100), threshold=0.1),\n",
    "    PCA(iterated_power=4, svd_solver=\"randomized\"),\n",
    "    ExtraTreesRegressor(bootstrap=False, max_features=0.15000000000000002, min_samples_leaf=10, min_samples_split=6, n_estimators=100)\n",
    ")\n",
    "exported_pipeline.fit(train.drop('SalePrice', axis=1).values, train['SalePrice'])"
   ]
  },
  {
   "cell_type": "code",
   "execution_count": 10,
   "metadata": {
    "collapsed": true
   },
   "outputs": [],
   "source": [
    "predictions = np.expm1(exported_pipeline.predict(test))\n",
    "result_df = pd.DataFrame({'Id': test_ID, 'SalePrice': predictions})\n",
    "result_df.to_csv('houses/predictions.csv', index=False)"
   ]
  },
  {
   "cell_type": "code",
   "execution_count": 32,
   "metadata": {
    "collapsed": true
   },
   "outputs": [],
   "source": [
    "predictions = np.expm1(tpot.predict(test))\n",
    "result_df = pd.DataFrame({'Id': test_ID, 'SalePrice': predictions})\n",
    "result_df.to_csv('houses/predictions.csv', index=False)"
   ]
  },
  {
   "cell_type": "code",
   "execution_count": null,
   "metadata": {
    "collapsed": true
   },
   "outputs": [],
   "source": []
  }
 ],
 "metadata": {
  "kernelspec": {
   "display_name": "Python 3",
   "language": "python",
   "name": "python3"
  },
  "language_info": {
   "codemirror_mode": {
    "name": "ipython",
    "version": 3
   },
   "file_extension": ".py",
   "mimetype": "text/x-python",
   "name": "python",
   "nbconvert_exporter": "python",
   "pygments_lexer": "ipython3",
   "version": "3.5.4"
  }
 },
 "nbformat": 4,
 "nbformat_minor": 2
}
